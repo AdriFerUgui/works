{
 "cells": [
  {
   "cell_type": "markdown",
   "metadata": {},
   "source": [
    "# Kickstarter"
   ]
  },
  {
   "cell_type": "markdown",
   "metadata": {},
   "source": [
    "En este ejercicio tendrás que responder a una serie de preguntas sobre el dataset de Kickstarter, subido por la comunidad a [Kaggle](https://www.kaggle.com/kemical/kickstarter-projects).\n",
    "\n",
    "Por si no lo conoces, [Kickstarter](https://www.kickstarter.com/) es un portal de *crowdfunding*: donde cualquier persona puede subir un proyecto que quiere llevar a cabo (como lanzar un nuevo producto, publicar un libro, un videojuego...) y otras personas pueden financiar y/o hacer donaciones al proyecto, a cambio de futuras recompensas.\n",
    "\n",
    "Por ejemplo: imagina que quieres publicar un libro, pero no tienes presupuesto para ello. Tienes ya gran parte del libro escrito, pero no tienes el dinero necesario para poder publicarlo. Si subes tu proyecto a Kickstarter, otras personas pueden darte dinero (llamados *backers*, mecenas o patrocinadores) a cambio por ejemplo de recibir una copia del libro antes de su publicación en las tiendas, o incluso aparecer en la dedicatoria del libro... O lo que el creador desee, dependiendo también de cuánto dinero aporte cada uno.\n",
    "\n",
    "Veamos un ejemplo concreto: [este proyecto](https://www.kickstarter.com/projects/1hitwonder/one-hit-wonder-take-two?ref=discovery_tag_category_newest) quiere lanzar una novela gráfica de crimen y comedia. Muestra un vídeo donde el creador explica lo que quiere hacer y por qué necesita el dinero, y a la derecha aparece cuánto dinero solicitaba inicialmente, y cuánto ha conseguido hasta la fecha. Asimismo, aparece cuántos mecenas/patrocinadores/*backers* tiene hasta el momento el proyecto, y cuánto tiempo queda para poderte hacer *backer* si así lo deseas. Una vez terminado el proyecto, será exitoso si se ha llegado a la cifra de dinero solicitada por el creador.\n",
    "\n",
    "Para hacerte *backer* no tienes que hacer más que aportar dinero. Si bajas un poco en la página del proyecto, en la columna de la derecha aparece cuánto dinero puedes aportar, y las recompensas que recibes por ello a cambio. Por ejemplo: si contribuyes 5 dólares, en este caso te llevas la satisfacción personal de haber apoyado al creador (o sea: nada). Sin embargo, si contribuyes 10 dólares te llevas una copia digital de la novela cuando esté terminada; si contribuyes 30 dólares te llevas una copia física y firmada por el creador... Y así."
   ]
  },
  {
   "cell_type": "markdown",
   "metadata": {},
   "source": [
    "El dataset (en formato csv separado por comas, disponible en la carpeta de prácticas con el nombre `ks-projects-201801.csv`) que vas a utilizar contiene información sobre todos los proyectos que han salido en Kickstarter a lo largo del tiempo. Cada fila (observación) es un proyecto, y a continuación te explico el significado de cada columna:\n",
    "\n",
    "- `ID`: un ID interno de Kickstarter que identifica unívocamente un proyecto\n",
    "- `name`: el nombre del proyecto (el que el creador ha querido darle)\n",
    "- `category`: qué tipo de proyecto es (si es una película, un libro de poesía, un gadget tecnológico)... No la vamos a usar para esta práctica\n",
    "- `main_category`: una clasificación más general de qué tipo de proyecto es. Son las que aparecen en la parte de arriba de la [página principal de Kickstarter según entras a la web](https://www.kickstarter.com/?ref=nav)\n",
    "- `currency`: la divisa (moneda) en la que hay que poner los donativos. Depende principalmente del país de origen del creador\n",
    "- `deadline`: la fecha en la que el proyecto termina, y no se aceptan más donaciones a partir de esa fecha\n",
    "- `goal`: la meta de dinero que el creador necesita. Si se llega a dicha cifra o se sobrepasa, el proyecto triunfa. Si no se llega, el proyecto fracasa y se suele devolver el dinero aportado a los `backers`\n",
    "- `launched`: fecha en la que se lanzó el proyecto y apareció en Kickstarter\n",
    "- `pledged`: cantidad de dinero total aportada (donada) por los *backers*, en la dividsa marcada por la columna `currency`\n",
    "- `state`: el estado en el que se encuentra el proyecto: si se llegó al dinero (`successful`), si fracasó (`failed`), si el creador lo canceló (`canceled`), si está en curso (`live`), si se ha suspendido temporalmente por la razón que sea (`suspended`), o si está en estado desconocido (`undefined`)\n",
    "- `backers`: el número de patrocinadores/mecenas que tiene el proyecto actualmente\n",
    "- `country`: el país de origen del creador del proyecto\n",
    "- `usd pledged`, `usd_pledged_real`, `usd_goal_real`: NO UTILIZAR; están mal"
   ]
  },
  {
   "cell_type": "markdown",
   "metadata": {},
   "source": [
    "Tu objetivo es dar respuesta a las preguntas que hay a continuación utilizando gráficos para hacerlo. Nada de texto: solo gráficos (eso sí: si quieres incluir título y texto dentro de los gráficos, eres libre).\n",
    "\n",
    "Puedes utilizar cualquiera de las bibliotecas vistas en el módulo para hacer los gráficos: depende de ti y de con lo que te sientas más cómodo (y puedes combinar y mezclar todo lo que quieras). Asimismo, para dar respuesta a cada pregunta, puedes hacer el número de gráficos que consideres: uno, dos tres... En función de lo que creas que necesites. Igualmente, seguro que vas a necesitar preparar y manipular un poco con pandas los datos para poder hacer los gráficos que quieres: agruparlos, filtrarlos, cambiar nombres de columnas si lo deseas... Eres completamente libre en ese aspecto.\n",
    "\n",
    "**Qué se va a evaluar**:\n",
    "\n",
    "- *Claridad*: los gráficos han de ser capaces de explicar y responder a las preguntas hechas, obviamente. Si un gráfico es un batiburrillo imposible de entender sin mirar los datos, de poco sirve...\n",
    "- *Precisión*: lo que muestren los gráficos ha de ser la realidad de los datos: no vale inventarse los datos\n",
    "- *Relevancia*: a menos que lo consideres esencial, intenta ceñirte a las preguntas hechas a la hora de responder con los gráficos. Evita codificar variables que no afectan a la respuesta (ya sea en los colores, posición de elementos del gráfico, ejes, formas, etc), así como codificar una variable dos veces (si utilizas el color para codificar una variable, ¡no la uses para codificar también el tamaño!)\n",
    "- *Limpieza*: va de la mano con el primer punto (claridad), pero es algo más sutil: intenta evitar todo aquello que no aporte información útil al gráfico, consiguiendo un *data-to-ink ratio* (menos es más) razonable; lo cual no quiere decir que puedas hacer un gráfico que no informe de nada...\n",
    "- *Estilo y diseño*: puesto que es muy subjetivo, es menos importante que los puntos anteriores. Mientras no utilices paletas de color terribles y estrambóticas, todo debería ir bien. Lo más importante de un gráfico es que sea informativo; no artístico\n",
    "\n",
    "Si por lo que sea quieres ofrecer dos respuestas alternativas a una determinada pregunta (y no te decides por cuál te gusta más), no te preocupes: puedes poner las dos, y especificar (para esto sí te dejo poner texto): *también se podría responder a la pregunta con este otro gráfico: (y el gráfico)*\n",
    "\n",
    "Asimismo, te dejo por aquí una serie de links que pueden ayudarte a nivel no-técnico a la hora de escoger gráficos, colores y demás. Son MUY útiles; te recomiendo visitarlos aunque sea por encima:\n",
    "\n",
    "1. [From Data to Viz](https://www.data-to-viz.com/): lo vimos en la teoría; es una web que te ayuda a elegir qué tipo de gráfico puede ser útil en base a las variables que quieres representar.\n",
    "2. [The Python Graph Library](https://python-graph-gallery.com/): similar a la anterior, pero centrado en cómo se hacen ciertos gráficos con Python. Eso sí: no cubre bibliotecas de visualización web; así que su uso para esta práctica es más limitado.\n",
    "3. [Data Viz Project](https://datavizproject.com/): un glosario con aún más tipos de gráfico. Explica para qué puede servir cada uno, y muestra ejemplos públicos de su uso en webs, periódicos, etc. Muy parecido a From Data to Viz.\n",
    "4. [RAWGraphs](https://rawgraphs.io/): una web que te permite hacer algunos tipos de gráfico sin programar (similar al Chart Studio de Plotly, pero gratis). Puede serte útil para prototipar o pensar qué tal quedaría un gráfico sin meterte a escribir código, únicamente subiendo una muestra de los datos.\n",
    "5. [Makeover Monday](https://www.makeovermonday.co.uk/gallery/): un portal que es algo así como un \"Kaggle de visualizaciones\": cada semana publican un dataset, y cualquiera puede subir uno o varios gráficos para explicar dichos datos. Eso sí: el premio es la satisfacción de haber participado (y compartir tus gráficos con el mundo). Tiene muchos ejemplos, y es curioso cómo distintos usuarios utilizan gráficos completamente distintos para representar la misma información.\n",
    "6. [The Art and Science of Data Visualization](https://towardsdatascience.com/the-art-and-science-of-data-visualization-6f9d706d673e?gi=9703f7349998): un artículo escrito por Michael Mahoney, que es simplemente el mejor que he visto nunca relacionado con el tema. Habla de cómo codificar la información en un gráfico para que sea entendible, la mecánica detrás de una visualización efectiva, cosas a evitar... Recomendadísimo; quizás por encima de los links anteriores.\n",
    "\n",
    "\n",
    "Y ya está. ¡Ánimo!"
   ]
  },
  {
   "cell_type": "markdown",
   "metadata": {},
   "source": [
    "### 1. Hasta el día de hoy, ¿cuántos proyectos han tenido éxito, cuántos han fracasado y cuántos se han cancelado? ¿Hay proyectos que no entran en ninguna de esas tres categorías?"
   ]
  },
  {
   "cell_type": "code",
   "execution_count": null,
   "metadata": {},
   "outputs": [],
   "source": []
  },
  {
   "cell_type": "markdown",
   "metadata": {},
   "source": [
    "##### 1.1. ¿Cuántos proyectos han fracasado por categoría principal (`main_category`)?"
   ]
  },
  {
   "cell_type": "code",
   "execution_count": null,
   "metadata": {},
   "outputs": [],
   "source": []
  },
  {
   "cell_type": "markdown",
   "metadata": {},
   "source": [
    "##### 1.2. ¿Crees que es posible que hayan fracasado más proyectos de una determinada categoría principal (por ejemplo, `Film & Video`) simplemente porque hay más proyectos de dicha categoría? ¿Crees entonces que tu gráfico anterior puede ser \"engañoso\" en ese sentido? ¿Cómo podrías arreglarlo?"
   ]
  },
  {
   "cell_type": "code",
   "execution_count": null,
   "metadata": {},
   "outputs": [],
   "source": []
  },
  {
   "cell_type": "markdown",
   "metadata": {},
   "source": [
    "### 2. ¿Cuál es el `goal` medio por categoría en euros?\n",
    "\n",
    "*Nota*: puesto que hay proyectos en distintas divisas, has de convertir todo a euros. Abajo te dejo la tabla de conversión que debes usar; representa cuántos euros se cambian por 1 unidad de la moneda original:"
   ]
  },
  {
   "cell_type": "code",
   "execution_count": 1,
   "metadata": {},
   "outputs": [],
   "source": [
    "diccionario_conversion_divisas = {\"USD\": 0.90,\n",
    "                                  \"GBP\": 1.19,\n",
    "                                  \"EUR\": 1.00,\n",
    "                                  \"CAD\": 0.68,\n",
    "                                  \"AUD\": 0.60,\n",
    "                                  \"SEK\": 0.09,\n",
    "                                  \"MXN\": 0.04,\n",
    "                                  \"NZD\": 0.58,\n",
    "                                  \"DKK\": 0.13,\n",
    "                                  \"CHF\": 0.93,\n",
    "                                  \"NOK\": 0.09,\n",
    "                                  \"HKD\": 0.11,\n",
    "                                  \"SGD\": 0.66,\n",
    "                                  \"JPY\": 0.008}"
   ]
  },
  {
   "cell_type": "code",
   "execution_count": null,
   "metadata": {},
   "outputs": [],
   "source": []
  },
  {
   "cell_type": "markdown",
   "metadata": {},
   "source": [
    "##### 2.1. ¿Y el goal mediano?"
   ]
  },
  {
   "cell_type": "code",
   "execution_count": null,
   "metadata": {},
   "outputs": [],
   "source": []
  },
  {
   "cell_type": "markdown",
   "metadata": {},
   "source": [
    "##### 2.2. ¿Con cuál te quedarías de los dos gráficos anteriores? Explícalo con un gráfico, asumiendo que la persona que lo ve tiene conocimientos básicos de estadística"
   ]
  },
  {
   "cell_type": "code",
   "execution_count": null,
   "metadata": {},
   "outputs": [],
   "source": []
  },
  {
   "cell_type": "markdown",
   "metadata": {},
   "source": [
    "##### 2.3. ¿Es verdad que los proyectos más ambiciosos (aquellos cuyo `goal` es mayor de 50.000€) son menos exitosos (fracasan más) que los más modestos (`goal` menor de 50.000€)?"
   ]
  },
  {
   "cell_type": "code",
   "execution_count": null,
   "metadata": {},
   "outputs": [],
   "source": []
  },
  {
   "cell_type": "markdown",
   "metadata": {},
   "source": [
    "### 3. ¿Se lanzan cada vez (es decir, a lo largo del tiempo) más proyectos en Kickstarter? Y en general, ¿son cada vez más exitosos o menos, independientemente del `goal`?"
   ]
  },
  {
   "cell_type": "code",
   "execution_count": null,
   "metadata": {},
   "outputs": [],
   "source": []
  },
  {
   "cell_type": "markdown",
   "metadata": {},
   "source": [
    "##### 3.1. (¡Bonus! No obligatorio): ¿Puedes hacer el mismo gráfico (o similar) al de arriba, pero también diferenciando por `main_category`? Igual hay categorías en auge y otras en declive a lo largo del tiempo..."
   ]
  },
  {
   "cell_type": "code",
   "execution_count": null,
   "metadata": {},
   "outputs": [],
   "source": []
  },
  {
   "cell_type": "markdown",
   "metadata": {},
   "source": [
    "### 4. Cada proyecto es lanzado en un país (de donde es el el creador del proyecto). ¿Es posible que el país del creador influya en lo exitoso que puede llegar a ser un proyecto? \n",
    "\n",
    "*Nota*: para medir \"éxito\" en esta pregunta, utiliza el número de `backers` al proyecto como referencia. No tengas miedo de agregar la variable `backers` agrupada por país, si lo deseas...\n",
    "\n",
    "*Otra nota*: tienes disponible un archivo llamado `geometrias_y_puntos_referencia_paises.geojson` que te puede ser útil para esta visualización (pero es opcional); contiene tanto polígonos con la geometría de los países del mundo, así como puntos de latitud y longitud de un punto de referencia (central) de cada país. Pero ojo: no quiere decir que *tengas* que pintar un mapa: hazlo solo si lo consideras conveniente."
   ]
  },
  {
   "cell_type": "code",
   "execution_count": null,
   "metadata": {},
   "outputs": [],
   "source": []
  },
  {
   "cell_type": "markdown",
   "metadata": {},
   "source": [
    "### 5. (¡Bonus! No obligatorio): de los proyectos iniciados (`launched`) en 2017, por categoría (`main_category`), cuál es el monto total (suma en euros) de `goals` y `pledges`; y en relativo, cuántas veces se ha sobrepasado el objetivo y cuántas veces no (se ha quedado corto)?"
   ]
  },
  {
   "cell_type": "markdown",
   "metadata": {},
   "source": [
    "*Nota*: aquí es posible que te cueste mucho condensar toda la respuesta en un solo gráfico."
   ]
  },
  {
   "cell_type": "code",
   "execution_count": null,
   "metadata": {},
   "outputs": [],
   "source": []
  }
 ],
 "metadata": {
  "kernelspec": {
   "display_name": "Python [conda env:visualizacion]",
   "language": "python",
   "name": "conda-env-visualizacion-py"
  },
  "language_info": {
   "codemirror_mode": {
    "name": "ipython",
    "version": 3
   },
   "file_extension": ".py",
   "mimetype": "text/x-python",
   "name": "python",
   "nbconvert_exporter": "python",
   "pygments_lexer": "ipython3",
   "version": "3.8.6"
  }
 },
 "nbformat": 4,
 "nbformat_minor": 4
}
