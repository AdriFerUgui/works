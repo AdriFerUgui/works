{
 "cells": [
  {
   "cell_type": "markdown",
   "metadata": {},
   "source": [
    "# Ejercicio de machine learning 2: Alquiler de bicicletas"
   ]
  },
  {
   "cell_type": "markdown",
   "metadata": {},
   "source": [
    "En este ejercicio tu objetivo es ser capaz de determinar cuántas bicicletas se van a alquilar a una determinada hora.\n",
    "\n",
    "Para hacerlo, utilizarás registros del pasado en los que se ha recopilado la cantidad de bicicletas alquiladas bajo determinadas, variopintas situaciones."
   ]
  },
  {
   "cell_type": "markdown",
   "metadata": {},
   "source": [
    "## El dataset"
   ]
  },
  {
   "cell_type": "markdown",
   "metadata": {},
   "source": [
    "El dataset contiene información horaria de alquileres de bicicletas a lo largo de dos años (2011 y 2012) del Capital Bikeshare System de Washington D.C.\n",
    "\n",
    "La referencia académica del dataset (por si te interesa, pero no la necesitas realmente para nada) es: Fanaee-T, Hadi, and Gama, Joao, \"*Event labeling combining ensemble detectors and background knowledge*\", Progress in Artificial Intelligence (2013): pp. 1-15, Springer Berlin Heidelberg, doi:10.1007/s13748-013-0040-3.\n",
    "\n",
    "Cada observación del dataset (`bike_rentals.csv`, formato CSV separado por punto y coma) contiene la información de un determinado día y hora, junto con una serie de información adicional de dicho momento; principalmente con condiciones que pueden afectar a lo atractivo que puede ser alquilar una bicicleta a esa hora. Estos atributos fueron recopilados justo al inicio de dicha hora (primer minuto de la hora). Asimismo, la última columna del dataset `number_of_rentals` contiene el número de bicicletas que finalmente fueron alquiladas a lo largo de dicha hora.\n",
    "\n",
    "El listado de columnas es el siguiente:"
   ]
  },
  {
   "cell_type": "markdown",
   "metadata": {},
   "source": [
    "| columna   | descripción  |\n",
    "|---|---|\n",
    "| date | fecha y hora de la observación|\n",
    "| season_spring | si dicha fecha es de primavera (1 si lo es, de lo contrario es 0)|\n",
    "| season_summer | si dicha fecha es de verano (1 si lo es, de lo contrario es 0)|\n",
    "| season_autumn | si dicha fecha es de otoño (1 si lo es, de lo contrario es 0)|\n",
    "| season_winter | si dicha fecha es de invierno (1 si lo es, de lo contrario es 0)|\n",
    "| year | año de la observación (obtenido a partir de la columna `date`|\n",
    "| month | mes de la observación (obtenido a partir de la columna `date`|\n",
    "| hour | hora de la observación (obtenido a partir de la columna `date`|\n",
    "| weekday | día de la semana de la observación (1 es Lunes, 2 es Martes... y 7 es Domingo)|\n",
    "|holiday | si ese día era festivo|\n",
    "| workingday | si ese día era laboral (es decir, que no era ni festivo ni fin de semana)|\n",
    "| weather__Clear/Few clouds/Partly cloudy/Partly cloudy | 1 si el tiempo ese día y hora estaba despejado o con algunas nubes; y 0 en caso contrario|\n",
    "| weather__Mist + Cloudy/Mist + Broken clouds/Mist + Few clouds/Mist | 1 si había niebla ese día a esa hora o no, básicamente|\n",
    "| weather__Light Snow/Light Rain + Thunderstorm + Scattered clouds/Light Rain + Scattered clouds | 1 si a ese día y hora había lluvia y/o nevada relativamente ligera junto con cielo cubierto|\n",
    "| weather__Heavy Rain + Ice Pallets + Thunderstorm + Mist/Snow + Fog | 1 si a ese día y esa hora había lluvia y/o nevada fuerte|\n",
    "| temperature | temperatura (en ºC) ese día a esa hora|\n",
    "| thermal_sensation | sensación térmica (en ºC) ese día a esa hora|\n",
    "| humidity | humedad (en porcentaje, sobre 100) ese día a esa hora|\n",
    "| windspeed | velocidad del viento (en Km/h) ese día a esa hora|"
   ]
  },
  {
   "cell_type": "markdown",
   "metadata": {},
   "source": [
    "Por último, y como ya hemos mencionado antes, hay una columna más `number_of_rentals` que nos indica, al final de dicha hora, cuántas bicicletas fueron alquiladas finalmente."
   ]
  },
  {
   "cell_type": "markdown",
   "metadata": {},
   "source": [
    "## Objetivos"
   ]
  },
  {
   "cell_type": "markdown",
   "metadata": {},
   "source": [
    "1. Pensar en **qué ténica de machine learning** debes utilizar. ¿Se trata de aprendizaje supervisado, o no supervisado? ¿Y dentro de una de esas dos?\n",
    "2. Dependiendo de lo que respondas a la pregunta anterior, es posible que debas seguir alguno de los workflows que vimos en la teoría de machine learning en clase... Análisis exploratorio de los datos, separar en train y test, separar también validación (o usar cross-validation), probar distintos modelos e hiperparámetros... Lo que necesites para construir un modelo que sea capaz de **determinar lo mejor posible cuántas bicicletas se van a alquilar a lo largo de una determinada hora, asumiendo que conocemos el calendario y las condiciones meteorológicas**.\n",
    "3. Una vez construido el modelo, habrá que demostrar al Capital Bikeshare System de Washington que efectivamente hemos conseguido construir algo útil. Para ello, va a ser necesario que demuestres cómo de bien podrá, tu modelo, estimar cuántas bicicletas se van a alquilar. O, dicho de otra forma, mostrar **cómo de bueno/malo esperamos que sea el modelo a futuro**."
   ]
  },
  {
   "cell_type": "markdown",
   "metadata": {},
   "source": [
    "<div class=\"alert alert-warning\">Dado que las observaciones en este dataset tienen un cierto orden (cronológico), en el caso de que decidas separar un conjunto de test (a tu criterio dejo si debes o no), deberás hacerlo de la siguiente forma: el conjunto de test deberá contener únicamente las observaciones desde el 1 de junio de 2012 (incluido) en adelante (o sea, del 2012-06-01 al 2012-12-31; ambos incluidos). Puesto que estas observaciones son los 6 meses más recientes de los que tenemos datos, es buena práctica hacerlo así: de este modo, el conjunto de test es una representación lo más fiel (y reciente) posible de los datos que nos llegarán en el futuro.</div>"
   ]
  },
  {
   "cell_type": "markdown",
   "metadata": {},
   "source": [
    "<div class=\"alert alert-warning\">La columna <code>date</code>, evidentemente, no es numérica. Y por tanto, tu modelo de machine learning no la puede utilizar directamente. No pasa nada: realmente ya hemos generado otras columnas a partir de ella como son <code>year</code>, <code>month</code>, <code>hour</code>, etc. Pero eso no quiere decir que no puedas generar todavía más columnas potencialmente útiles a partir de ella. ¿Crees que, por ejemplo, el día del mes (de 1 a 31) puede influir en que se alquilen más o menos bicicletas? Igual sí, igual no...</div>"
   ]
  },
  {
   "cell_type": "markdown",
   "metadata": {},
   "source": [
    "<div class=\"alert alert-warning\">Dependiendo del tipo de modelo de machine learning que decidas utilizar, es posible que los números que *escupa* tengan decimales. Como realmente no tiene sentido pensar en 128.4 alquieres de bici en una hora, redondea tus estimaciones al número entero más cercano a la hora de medir cómo de bueno/malo esperamos que sea el modelo a futuro.</div>"
   ]
  },
  {
   "cell_type": "markdown",
   "metadata": {},
   "source": [
    "Eso es todo. ¡Mucho ánimo!"
   ]
  },
  {
   "cell_type": "code",
   "execution_count": null,
   "metadata": {},
   "outputs": [],
   "source": []
  }
 ],
 "metadata": {
  "kernelspec": {
   "display_name": "Python 3",
   "language": "python",
   "name": "python3"
  },
  "language_info": {
   "codemirror_mode": {
    "name": "ipython",
    "version": 3
   },
   "file_extension": ".py",
   "mimetype": "text/x-python",
   "name": "python",
   "nbconvert_exporter": "python",
   "pygments_lexer": "ipython3",
   "version": "3.7.9"
  }
 },
 "nbformat": 4,
 "nbformat_minor": 4
}
